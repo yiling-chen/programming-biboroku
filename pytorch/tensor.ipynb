{
 "cells": [
  {
   "cell_type": "markdown",
   "metadata": {},
   "source": [
    "## torch.Tensor\n",
    "https://pytorch.org/docs/stable/tensors.html\n",
    "\n",
    "`torch.Tensor` is an alias for the default tensor type `torch.FloatTensor`"
   ]
  },
  {
   "cell_type": "code",
   "execution_count": 22,
   "metadata": {},
   "outputs": [
    {
     "name": "stdout",
     "output_type": "stream",
     "text": [
      "0.4.1.post2\n"
     ]
    }
   ],
   "source": [
    "import torch\n",
    "import numpy as np\n",
    "print(torch.__version__)"
   ]
  },
  {
   "cell_type": "code",
   "execution_count": 26,
   "metadata": {},
   "outputs": [
    {
     "name": "stdout",
     "output_type": "stream",
     "text": [
      "tensor([1, 2, 3])\n",
      "tensor([[1, 2, 3],\n",
      "        [4, 5, 6]])\n"
     ]
    }
   ],
   "source": [
    "x = torch.tensor([1, 2, 3]) # create tesnor directly from python list\n",
    "print(x)\n",
    "y = torch.tensor(np.array([[1, 2, 3], [4, 5, 6]])) # from numpy array\n",
    "print(y)"
   ]
  },
  {
   "cell_type": "markdown",
   "metadata": {},
   "source": [
    "**NOTE:** `torch.tensor()` always copies `data`. If you have a Tensor data and just want to change its `requires_grad` flag, use `requires_grad_()` or `detach()` to avoid a copy. If you have a numpy array and want to avoid a copy, use `torch.as_tensor()`."
   ]
  },
  {
   "cell_type": "code",
   "execution_count": 29,
   "metadata": {},
   "outputs": [
    {
     "name": "stdout",
     "output_type": "stream",
     "text": [
      "tensor([1, 1, 1])\n",
      "tensor([2, 1, 1])\n"
     ]
    }
   ],
   "source": [
    "m = np.array([1, 1, 1])\n",
    "n = torch.as_tensor(m)  # m and n share data\n",
    "print(n)\n",
    "m[0] = 2\n",
    "print(n)"
   ]
  },
  {
   "cell_type": "code",
   "execution_count": 2,
   "metadata": {},
   "outputs": [
    {
     "name": "stdout",
     "output_type": "stream",
     "text": [
      "tensor([[0.0000, 0.0000, 0.0000],\n",
      "        [0.0000, 0.0000, 0.0000],\n",
      "        [0.0000, 0.0000, 0.0000],\n",
      "        [0.0000, 0.0000, 0.0000],\n",
      "        [0.0000, 0.0000, 0.0000]])\n"
     ]
    }
   ],
   "source": [
    "x = torch.empty(5, 3) # specify size and create an uninitialized tensor\n",
    "print(x)"
   ]
  },
  {
   "cell_type": "code",
   "execution_count": 3,
   "metadata": {},
   "outputs": [
    {
     "name": "stdout",
     "output_type": "stream",
     "text": [
      "tensor([[0.0104, 0.3117, 0.8229],\n",
      "        [0.1097, 0.2213, 0.2282],\n",
      "        [0.9426, 0.2544, 0.0842],\n",
      "        [0.4172, 0.2231, 0.0649],\n",
      "        [0.9170, 0.0727, 0.1110]])\n"
     ]
    }
   ],
   "source": [
    "x = torch.rand(5, 3) # randomly initialized tensor\n",
    "print(x)"
   ]
  },
  {
   "cell_type": "code",
   "execution_count": 4,
   "metadata": {},
   "outputs": [
    {
     "name": "stdout",
     "output_type": "stream",
     "text": [
      "tensor([[-1.3224, -0.3148,  0.8519],\n",
      "        [ 0.6643,  0.0403, -0.3317],\n",
      "        [-1.3914,  0.2191,  1.3154],\n",
      "        [-0.5725,  0.1418,  0.3219],\n",
      "        [-0.3627, -0.6597, -1.6727]])\n"
     ]
    }
   ],
   "source": [
    "x = torch.randn(5, 3)\n",
    "print(x)"
   ]
  },
  {
   "cell_type": "code",
   "execution_count": 5,
   "metadata": {},
   "outputs": [
    {
     "name": "stdout",
     "output_type": "stream",
     "text": [
      "tensor([[0, 0, 0, 0, 0],\n",
      "        [0, 0, 0, 0, 0]])\n"
     ]
    }
   ],
   "source": [
    "x = torch.zeros(2, 5, dtype=torch.long) # init tensor with zeros\n",
    "print(x)"
   ]
  },
  {
   "cell_type": "code",
   "execution_count": 25,
   "metadata": {},
   "outputs": [
    {
     "name": "stdout",
     "output_type": "stream",
     "text": [
      "tensor([[1., 1., 1.],\n",
      "        [1., 1., 1.],\n",
      "        [1., 1., 1.],\n",
      "        [1., 1., 1.],\n",
      "        [1., 1., 1.]], dtype=torch.float64)\n",
      "tensor([[ 0.4546,  0.2603, -0.1721],\n",
      "        [ 0.3261, -1.1363, -1.1793],\n",
      "        [-0.7265,  0.4723, -0.9502],\n",
      "        [ 0.8988,  0.2237,  0.0657],\n",
      "        [-2.0047, -0.5466,  0.4404]])\n"
     ]
    }
   ],
   "source": [
    "x = x.new_ones(5, 3, dtype=torch.double) # create tensor from an existing tensor, inherit properties if not specified\n",
    "print(x)\n",
    "x = torch.randn_like(x, dtype=torch.float)\n",
    "print(x)"
   ]
  },
  {
   "cell_type": "code",
   "execution_count": 19,
   "metadata": {},
   "outputs": [
    {
     "name": "stdout",
     "output_type": "stream",
     "text": [
      "tensor([[ 0.6474,  2.1717,  2.0280],\n",
      "        [ 0.1501,  0.2278,  0.8367],\n",
      "        [ 0.6700, -0.4034, -0.5096],\n",
      "        [ 0.0723,  0.6437, -0.1734],\n",
      "        [-0.8439, -0.0299, -0.0788]])\n"
     ]
    }
   ],
   "source": [
    "torch.abs(x) # return result with a new tensor\n",
    "print(x)     # the original tensor is not changed"
   ]
  },
  {
   "cell_type": "code",
   "execution_count": 20,
   "metadata": {},
   "outputs": [
    {
     "name": "stdout",
     "output_type": "stream",
     "text": [
      "tensor([[0.6474, 2.1717, 2.0280],\n",
      "        [0.1501, 0.2278, 0.8367],\n",
      "        [0.6700, 0.4034, 0.5096],\n",
      "        [0.0723, 0.6437, 0.1734],\n",
      "        [0.8439, 0.0299, 0.0788]])\n"
     ]
    }
   ],
   "source": [
    "torch.FloatTensor.abs_(x) # computes the result in-place and return the modified tensor\n",
    "print(x)"
   ]
  },
  {
   "cell_type": "markdown",
   "metadata": {},
   "source": [
    "Use `torch.Tensor.item()` to get a Python number from a tensor containing a single value"
   ]
  },
  {
   "cell_type": "code",
   "execution_count": 32,
   "metadata": {},
   "outputs": [
    {
     "name": "stdout",
     "output_type": "stream",
     "text": [
      "tensor([[1]])\n",
      "1\n"
     ]
    }
   ],
   "source": [
    "x = torch.tensor([[1]])\n",
    "print(x)\n",
    "print(x.item())"
   ]
  },
  {
   "cell_type": "markdown",
   "metadata": {},
   "source": [
    "### [Tensor attributes](https://pytorch.org/docs/stable/tensor_attributes.html#tensor-attributes-doc)\n",
    " - `torch.dtype`\n",
    " - `torch.device`\n",
    " - `torch.layout`\n",
    " - to change an existing tensor's `torch.device` and/or `torch.dtype`, use `to()` method on the tensor"
   ]
  },
  {
   "cell_type": "markdown",
   "metadata": {},
   "source": [
    "## Oeprations"
   ]
  },
  {
   "cell_type": "code",
   "execution_count": 38,
   "metadata": {},
   "outputs": [
    {
     "name": "stdout",
     "output_type": "stream",
     "text": [
      "tensor([3, 3, 3])\n",
      "tensor([3, 3, 3])\n",
      "tensor([3, 3, 3])\n"
     ]
    }
   ],
   "source": [
    "x = torch.tensor([1, 1, 1])\n",
    "y = torch.tensor([2, 2, 2])\n",
    "print(x + y)\n",
    "print(torch.add(x, y)) # add x, y and returns a new tensor\n",
    "result = torch.empty(1, 3, dtype=torch.long)\n",
    "torch.add(x, y, out=result) # provide an output tensor as argument\n",
    "print(result)"
   ]
  },
  {
   "cell_type": "code",
   "execution_count": 39,
   "metadata": {},
   "outputs": [
    {
     "name": "stdout",
     "output_type": "stream",
     "text": [
      "tensor([3, 3, 3])\n"
     ]
    }
   ],
   "source": [
    "y.add_(x) # add x to y (in-place)\n",
    "print(y)"
   ]
  },
  {
   "cell_type": "code",
   "execution_count": 40,
   "metadata": {},
   "outputs": [
    {
     "name": "stdout",
     "output_type": "stream",
     "text": [
      "tensor([[ 0.3449, -0.8789, -1.5781, -0.7846],\n",
      "        [ 0.5610, -0.1188,  1.3234, -0.1684],\n",
      "        [-0.1062,  0.5519, -0.5740, -0.9802],\n",
      "        [ 0.6671,  0.7173,  0.2714,  0.9912]])\n",
      "tensor([ 0.3449, -0.8789, -1.5781, -0.7846])\n"
     ]
    }
   ],
   "source": [
    "# indexing and slicing like numpy\n",
    "x = torch.randn(4, 4)\n",
    "print(x)\n",
    "print(x[0, :])"
   ]
  },
  {
   "cell_type": "code",
   "execution_count": 41,
   "metadata": {},
   "outputs": [
    {
     "name": "stdout",
     "output_type": "stream",
     "text": [
      "torch.Size([4, 4]) torch.Size([16]) torch.Size([2, 8])\n"
     ]
    }
   ],
   "source": [
    "# resize/reshape tensor\n",
    "y = x.view(16)\n",
    "z = x.view(-1, 8)\n",
    "print(x.size(), y.size(), z.size())"
   ]
  },
  {
   "cell_type": "markdown",
   "metadata": {},
   "source": [
    "### Numpy bridge\n",
    "torch tensor and numpy array can be easily converted. They will share memory locations and changing one will change the other."
   ]
  },
  {
   "cell_type": "code",
   "execution_count": 44,
   "metadata": {},
   "outputs": [
    {
     "name": "stdout",
     "output_type": "stream",
     "text": [
      "tensor([1., 1., 1., 1., 1.])\n",
      "[1. 1. 1. 1. 1.]\n"
     ]
    }
   ],
   "source": [
    "# from torch to numpy\n",
    "a = torch.ones(5)\n",
    "print(a)\n",
    "b = a.numpy()\n",
    "print(b)"
   ]
  },
  {
   "cell_type": "code",
   "execution_count": 43,
   "metadata": {},
   "outputs": [
    {
     "name": "stdout",
     "output_type": "stream",
     "text": [
      "tensor([2., 2., 2., 2., 2.])\n",
      "[2. 2. 2. 2. 2.]\n"
     ]
    }
   ],
   "source": [
    "a.add_(1)\n",
    "print(a)\n",
    "print(b)"
   ]
  },
  {
   "cell_type": "code",
   "execution_count": 45,
   "metadata": {},
   "outputs": [
    {
     "name": "stdout",
     "output_type": "stream",
     "text": [
      "[2. 2. 2. 2. 2.]\n",
      "tensor([2., 2., 2., 2., 2.], dtype=torch.float64)\n"
     ]
    }
   ],
   "source": [
    "# from numpy to torch\n",
    "a = np.ones(5)\n",
    "b = torch.from_numpy(a)\n",
    "np.add(a, 1, out=a)\n",
    "print(a)\n",
    "print(b)"
   ]
  },
  {
   "cell_type": "markdown",
   "metadata": {},
   "source": [
    "### CUDA tensors\n",
    "Tensors can be moved onto any device using the `to()` method"
   ]
  },
  {
   "cell_type": "code",
   "execution_count": 47,
   "metadata": {},
   "outputs": [
    {
     "name": "stdout",
     "output_type": "stream",
     "text": [
      "tensor([[ 1.3449,  0.1211, -0.5781,  0.2154],\n",
      "        [ 1.5610,  0.8812,  2.3234,  0.8316],\n",
      "        [ 0.8938,  1.5519,  0.4260,  0.0198],\n",
      "        [ 1.6671,  1.7173,  1.2714,  1.9912]], device='cuda:0')\n",
      "tensor([[ 1.3449,  0.1211, -0.5781,  0.2154],\n",
      "        [ 1.5610,  0.8812,  2.3234,  0.8316],\n",
      "        [ 0.8938,  1.5519,  0.4260,  0.0198],\n",
      "        [ 1.6671,  1.7173,  1.2714,  1.9912]], dtype=torch.float64)\n"
     ]
    }
   ],
   "source": [
    "# let us run this cell only if CUDA is available\n",
    "# We will use ``torch.device`` objects to move tensors in and out of GPU\n",
    "if torch.cuda.is_available():\n",
    "    device = torch.device(\"cuda\")          # a CUDA device object\n",
    "    y = torch.ones_like(x, device=device)  # directly create a tensor on GPU\n",
    "    x = x.to(device)                       # or just use strings ``.to(\"cuda\")``\n",
    "    z = x + y\n",
    "    print(z)\n",
    "    print(z.to(\"cpu\", torch.double))       # ``.to`` can also change dtype together!"
   ]
  },
  {
   "cell_type": "code",
   "execution_count": null,
   "metadata": {},
   "outputs": [],
   "source": []
  }
 ],
 "metadata": {
  "kernelspec": {
   "display_name": "Python 3",
   "language": "python",
   "name": "python3"
  },
  "language_info": {
   "codemirror_mode": {
    "name": "ipython",
    "version": 3
   },
   "file_extension": ".py",
   "mimetype": "text/x-python",
   "name": "python",
   "nbconvert_exporter": "python",
   "pygments_lexer": "ipython3",
   "version": "3.7.0"
  }
 },
 "nbformat": 4,
 "nbformat_minor": 2
}
