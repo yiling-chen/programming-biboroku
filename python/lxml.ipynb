{
 "cells": [
  {
   "cell_type": "code",
   "execution_count": 1,
   "metadata": {},
   "outputs": [],
   "source": [
    "from lxml import etree"
   ]
  },
  {
   "cell_type": "markdown",
   "metadata": {},
   "source": [
    "## Element class\n",
    "\n",
    "Main container object (大致上可對比於XML或HTML文件中的一個tag)"
   ]
  },
  {
   "cell_type": "code",
   "execution_count": 23,
   "metadata": {},
   "outputs": [],
   "source": [
    "# Create\n",
    "root = etree.Element(\"root\")  # 新增一個tag為\"root\"的Element\n",
    "root.append( etree.Element(\"child1\") )  # 在root底下附加一個Element，tag為\"child1\"\n",
    "child2 = etree.SubElement(root, \"child2\")  # 作用等同於上"
   ]
  },
  {
   "cell_type": "code",
   "execution_count": 24,
   "metadata": {},
   "outputs": [
    {
     "name": "stdout",
     "output_type": "stream",
     "text": [
      "b'<root>\\n  <child1/>\\n  <child2/>\\n</root>\\n'\n"
     ]
    }
   ],
   "source": [
    "# Print\n",
    "print(etree.tostring(root, pretty_print=True))"
   ]
  },
  {
   "cell_type": "code",
   "execution_count": 25,
   "metadata": {},
   "outputs": [
    {
     "name": "stdout",
     "output_type": "stream",
     "text": [
      "There are 2 child nodes\n",
      "the index of the first element is 1\n",
      "2\n",
      "b'<root><child0/><child1/><child2/></root>'\n"
     ]
    }
   ],
   "source": [
    "# Element行為近似於Python原生的list物件，可用操作list的方法存取Element的subelement, e.g.\n",
    "child = root[0]\n",
    "print(\"There are\", len(root), \"child nodes\")  # use this expression to check if root has children\n",
    "print(\"the index of the first element is\", root.index(root[1]))\n",
    "children = list(root)\n",
    "print(len(children))\n",
    "root.insert(0, etree.Element(\"child0\"))\n",
    "print(etree.tostring(root))"
   ]
  },
  {
   "cell_type": "code",
   "execution_count": 26,
   "metadata": {},
   "outputs": [
    {
     "name": "stdout",
     "output_type": "stream",
     "text": [
      "b'<root><child2/><child1/></root>'\n"
     ]
    }
   ],
   "source": [
    "# Assignment: move instead of copy\n",
    "root[0] = root[-1]      # 將最後一個subelement移動至最前面，原本位置上的element會被移除，目的地的element則會被覆蓋\n",
    "# 每個element只會擁有一個parent！\n",
    "print(etree.tostring(root))"
   ]
  },
  {
   "cell_type": "code",
   "execution_count": 29,
   "metadata": {},
   "outputs": [
    {
     "data": {
      "text/plain": [
       "True"
      ]
     },
     "execution_count": 29,
     "metadata": {},
     "output_type": "execute_result"
    }
   ],
   "source": [
    "# 鄰近關係\n",
    "root is root[0].getparent()"
   ]
  },
  {
   "cell_type": "code",
   "execution_count": 30,
   "metadata": {},
   "outputs": [
    {
     "data": {
      "text/plain": [
       "True"
      ]
     },
     "execution_count": 30,
     "metadata": {},
     "output_type": "execute_result"
    }
   ],
   "source": [
    "root[0] is root[1].getprevious()"
   ]
  },
  {
   "cell_type": "code",
   "execution_count": 31,
   "metadata": {},
   "outputs": [
    {
     "data": {
      "text/plain": [
       "True"
      ]
     },
     "execution_count": 31,
     "metadata": {},
     "output_type": "execute_result"
    }
   ],
   "source": [
    "root[1] is root[0].getnext()"
   ]
  },
  {
   "cell_type": "code",
   "execution_count": 32,
   "metadata": {},
   "outputs": [
    {
     "name": "stdout",
     "output_type": "stream",
     "text": [
      "totally\n"
     ]
    }
   ],
   "source": [
    "# Attributes : name-value pairs, Element 提供類似dictionary的操作界面\n",
    "root = etree.Element(\"root\", interesting=\"totally\")\n",
    "print(root.get(\"interesting\"))\n",
    "root.set(\"hello\", \"Huhu\")\n",
    "sorted(root.keys())\n",
    "attributes = root.attrib  # 取得dictionary-like物件。但在element中所做的變動，會反映至attrib，反之亦然。\n",
    "d = dict(root.attrib)       # 將attrib物件拷貝至一個獨立的dict物件，兩者不再相關。"
   ]
  },
  {
   "cell_type": "code",
   "execution_count": null,
   "metadata": {},
   "outputs": [],
   "source": []
  }
 ],
 "metadata": {
  "kernelspec": {
   "display_name": "Python 3",
   "language": "python",
   "name": "python3"
  },
  "language_info": {
   "codemirror_mode": {
    "name": "ipython",
    "version": 3
   },
   "file_extension": ".py",
   "mimetype": "text/x-python",
   "name": "python",
   "nbconvert_exporter": "python",
   "pygments_lexer": "ipython3",
   "version": "3.6.7"
  }
 },
 "nbformat": 4,
 "nbformat_minor": 2
}
